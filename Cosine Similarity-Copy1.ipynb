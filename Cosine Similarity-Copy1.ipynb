{
 "cells": [
  {
   "cell_type": "code",
   "execution_count": 2,
   "id": "21bff9db",
   "metadata": {},
   "outputs": [
    {
     "name": "stdout",
     "output_type": "stream",
     "text": [
      "^C\n",
      "Note: you may need to restart the kernel to use updated packages.\n"
     ]
    }
   ],
   "source": [
    "pip install numpy==1.21.0"
   ]
  },
  {
   "cell_type": "code",
   "execution_count": 3,
   "id": "2d5d0688",
   "metadata": {},
   "outputs": [
    {
     "name": "stdout",
     "output_type": "stream",
     "text": [
      "^C\n",
      "Note: you may need to restart the kernel to use updated packages.\n"
     ]
    }
   ],
   "source": [
    "pip install numpy scikit-learn"
   ]
  },
  {
   "cell_type": "code",
   "execution_count": null,
   "id": "6ee1d514",
   "metadata": {},
   "outputs": [],
   "source": [
    " "
   ]
  },
  {
   "cell_type": "code",
   "execution_count": 4,
   "id": "f47023d4",
   "metadata": {},
   "outputs": [
    {
     "name": "stdout",
     "output_type": "stream",
     "text": [
      "[[0.97463185]]\n",
      "Requirement already satisfied: numpy==1.21.0 in c:\\users\\admin\\anaconda3\\lib\\site-packages (1.21.0)\n",
      "Requirement already satisfied: numpy in c:\\users\\admin\\anaconda3\\lib\\site-packages (1.21.0)\n",
      "Requirement already satisfied: scikit-learn in c:\\users\\admin\\anaconda3\\lib\\site-packages (0.24.2)\n",
      "Requirement already satisfied: threadpoolctl>=2.0.0 in c:\\users\\admin\\anaconda3\\lib\\site-packages (from scikit-learn) (2.2.0)\n",
      "Requirement already satisfied: joblib>=0.11 in c:\\users\\admin\\anaconda3\\lib\\site-packages (from scikit-learn) (1.1.0)\n",
      "Requirement already satisfied: scipy>=0.19.1 in c:\\users\\admin\\anaconda3\\lib\\site-packages (from scikit-learn) (1.7.1)\n"
     ]
    }
   ],
   "source": [
    "from sklearn.metrics.pairwise import cosine_similarity\n",
    "import numpy as np\n",
    "\n",
    "vector1 = np.array([[1, 2, 3]])\n",
    "vector2 = np.array([[4, 5, 6]])\n",
    "\n",
    "similarity = cosine_similarity(vector1, vector2)\n",
    "print(similarity)\n"
   ]
  },
  {
   "cell_type": "code",
   "execution_count": null,
   "id": "764bf0fc",
   "metadata": {},
   "outputs": [],
   "source": [
    " "
   ]
  },
  {
   "cell_type": "code",
   "execution_count": 8,
   "id": "669c2e8e",
   "metadata": {},
   "outputs": [
    {
     "name": "stdout",
     "output_type": "stream",
     "text": [
      " similarity: 0.9191640748273555\n"
     ]
    }
   ],
   "source": [
    "# استيراد مكتبة numpy\n",
    "import numpy as np\n",
    "\n",
    "document1 = np.array([0.1, 0.3, 0.0, 0.4, 0.2, 0.7, 0.0, 0.1, 0.0, 0.3])\n",
    "document2 = np.array([0.2, 0.1, 0.0, 0.3, 0.4, 0.6, 0.1, 0.0, 0.0, 0.4])\n",
    "\n",
    " dot_product = np.dot(document1, document2)\n",
    "\n",
    "magnitude_doc1 = np.linalg.norm(document1)\n",
    "magnitude_doc2 = np.linalg.norm(document2)\n",
    "\n",
    " cosine_similarity = dot_product / (magnitude_doc1 * magnitude_doc2)\n",
    "\n",
    "print(\" similarity:\", cosine_similarity)\n"
   ]
  },
  {
   "cell_type": "code",
   "execution_count": 11,
   "id": "18e3e4da",
   "metadata": {},
   "outputs": [
    {
     "name": "stdout",
     "output_type": "stream",
     "text": [
      "  cosine_similarity between 1,2 : 0.824238776146515\n"
     ]
    }
   ],
   "source": [
    "# استيراد مكتبة numpy\n",
    "import numpy as np\n",
    "\n",
    " user1 = np.array([5, 3, 4, 4, 2, 1, 0, 5, 3, 2])\n",
    "user2 = np.array([3, 1, 2, 3, 0, 2, 4, 5, 3, 1])\n",
    "\n",
    " dot_product = np.dot(user1, user2)\n",
    "\n",
    " magnitude_user1 = np.linalg.norm(user1)\n",
    "magnitude_user2 = np.linalg.norm(user2)\n",
    "\n",
    " cosine_similarity = dot_product / (magnitude_user1 * magnitude_user2)\n",
    "\n",
    " print(\"  cosine_similarity between 1,2 :\", cosine_similarity)\n"
   ]
  },
  {
   "cell_type": "code",
   "execution_count": 12,
   "id": "c452e629",
   "metadata": {},
   "outputs": [
    {
     "name": "stdout",
     "output_type": "stream",
     "text": [
      "The Cosine Similarity between the two documents is: 0.14438355527738672\n"
     ]
    }
   ],
   "source": [
    "from sklearn.feature_extraction.text import TfidfVectorizer\n",
    "import numpy as np\n",
    "\n",
    "# Define the documents\n",
    "documents = [\n",
    "    \"Programming is fun and helps in solving problems.\",\n",
    "    \"Programming teaches us logical thinking and problem analysis.\"\n",
    "]\n",
    "\n",
    "# Convert the documents into TF-IDF vectors\n",
    "vectorizer = TfidfVectorizer()\n",
    "tfidf_matrix = vectorizer.fit_transform(documents)\n",
    "\n",
    "# Extract the vectors for the documents\n",
    "doc1 = tfidf_matrix[0].toarray()[0]\n",
    "doc2 = tfidf_matrix[1].toarray()[0]\n",
    "\n",
    "# Compute Cosine Similarity\n",
    "cosine_similarity = np.dot(doc1, doc2) / (np.linalg.norm(doc1) * np.linalg.norm(doc2))\n",
    "\n",
    "# Print the result\n",
    "print(\"The Cosine Similarity between the two documents is:\", cosine_similarity)\n"
   ]
  },
  {
   "cell_type": "code",
   "execution_count": 13,
   "id": "0377ebee",
   "metadata": {},
   "outputs": [
    {
     "data": {
      "text/plain": [
       "\"Programming teaches problem-solving and creativity. It enables building apps, websites, and software, shaping the future with technology's power.\""
      ]
     },
     "execution_count": 13,
     "metadata": {},
     "output_type": "execute_result"
    }
   ],
   "source": [
    "\"Programming teaches problem-solving and creativity. It enables building apps, websites, and software, shaping the future with technology's power.\""
   ]
  },
  {
   "cell_type": "code",
   "execution_count": 14,
   "id": "e47604ae",
   "metadata": {},
   "outputs": [
    {
     "name": "stdout",
     "output_type": "stream",
     "text": [
      "The Cosine Similarity between the two documents is: 1.0000000000000002\n"
     ]
    }
   ],
   "source": [
    "from sklearn.feature_extraction.text import TfidfVectorizer\n",
    "import numpy as np\n",
    "\n",
    "# Define the documents\n",
    "documents = [\n",
    "    \"Programming teaches problem-solving and creativity. It enables building apps, websites, and software, shaping the future with technology's power.\",\n",
    "    \"Programming teaches problem-solving and creativity. It enables building apps, websites, and software, shaping the future with technology's power.\"\n",
    "]\n",
    "\n",
    "# Convert the documents into TF-IDF vectors\n",
    "vectorizer = TfidfVectorizer()\n",
    "tfidf_matrix = vectorizer.fit_transform(documents)\n",
    "\n",
    "# Extract the vectors for the documents\n",
    "doc1 = tfidf_matrix[0].toarray()[0]\n",
    "doc2 = tfidf_matrix[1].toarray()[0]\n",
    "\n",
    "# Compute Cosine Similarity\n",
    "cosine_similarity = np.dot(doc1, doc2) / (np.linalg.norm(doc1) * np.linalg.norm(doc2))\n",
    "\n",
    "# Print the result\n",
    "print(\"The Cosine Similarity between the two documents is:\", cosine_similarity)\n"
   ]
  },
  {
   "cell_type": "code",
   "execution_count": null,
   "id": "b1ae44df",
   "metadata": {},
   "outputs": [],
   "source": [
    " "
   ]
  },
  {
   "cell_type": "code",
   "execution_count": null,
   "id": "826efa13",
   "metadata": {},
   "outputs": [],
   "source": [
    " "
   ]
  },
  {
   "cell_type": "code",
   "execution_count": 1,
   "id": "47bb80e0",
   "metadata": {},
   "outputs": [
    {
     "name": "stderr",
     "output_type": "stream",
     "text": [
      "C:\\Users\\Admin\\anaconda3\\lib\\site-packages\\pandas\\core\\computation\\expressions.py:21: UserWarning: Pandas requires version '2.8.4' or newer of 'numexpr' (version '2.7.3' currently installed).\n",
      "  from pandas.core.computation.check import NUMEXPR_INSTALLED\n",
      "C:\\Users\\Admin\\anaconda3\\lib\\site-packages\\pandas\\core\\arrays\\masked.py:60: UserWarning: Pandas requires version '1.3.6' or newer of 'bottleneck' (version '1.3.2' currently installed).\n",
      "  from pandas.core import (\n"
     ]
    },
    {
     "name": "stdout",
     "output_type": "stream",
     "text": [
      "  show_id     type  title           director  \\\n",
      "0      s1  TV Show     3%                NaN   \n",
      "1      s2    Movie   7:19  Jorge Michel Grau   \n",
      "2      s3    Movie  23:59       Gilbert Chan   \n",
      "3      s4    Movie      9        Shane Acker   \n",
      "4      s5    Movie     21     Robert Luketic   \n",
      "\n",
      "                                                cast        country  \\\n",
      "0  João Miguel, Bianca Comparato, Michel Gomes, R...         Brazil   \n",
      "1  Demián Bichir, Héctor Bonilla, Oscar Serrano, ...         Mexico   \n",
      "2  Tedd Chan, Stella Chung, Henley Hii, Lawrence ...      Singapore   \n",
      "3  Elijah Wood, John C. Reilly, Jennifer Connelly...  United States   \n",
      "4  Jim Sturgess, Kevin Spacey, Kate Bosworth, Aar...  United States   \n",
      "\n",
      "          date_added  release_year rating   duration  \\\n",
      "0    August 14, 2020          2020  TV-MA  4 Seasons   \n",
      "1  December 23, 2016          2016  TV-MA     93 min   \n",
      "2  December 20, 2018          2011      R     78 min   \n",
      "3  November 16, 2017          2009  PG-13     80 min   \n",
      "4    January 1, 2020          2008  PG-13    123 min   \n",
      "\n",
      "                                           listed_in  \\\n",
      "0  International TV Shows, TV Dramas, TV Sci-Fi &...   \n",
      "1                       Dramas, International Movies   \n",
      "2                Horror Movies, International Movies   \n",
      "3  Action & Adventure, Independent Movies, Sci-Fi...   \n",
      "4                                             Dramas   \n",
      "\n",
      "                                         description  \n",
      "0  In a future where the elite inhabit an island ...  \n",
      "1  After a devastating earthquake hits Mexico Cit...  \n",
      "2  When an army recruit is found dead, his fellow...  \n",
      "3  In a postapocalyptic world, rag-doll robots hi...  \n",
      "4  A brilliant group of students become card-coun...  \n",
      "Cosine Similarity Matrix:\n",
      "[[1.         0.02948333 0.05984564 ... 0.02614326 0.01125591 0.02705265]\n",
      " [0.02948333 1.         0.00690474 ... 0.09719377 0.         0.        ]\n",
      " [0.05984564 0.00690474 1.         ... 0.00361798 0.01299716 0.01137338]\n",
      " ...\n",
      " [0.02614326 0.09719377 0.00361798 ... 1.         0.01869832 0.06912328]\n",
      " [0.01125591 0.         0.01299716 ... 0.01869832 1.         0.01724366]\n",
      " [0.02705265 0.         0.01137338 ... 0.06912328 0.01724366 1.        ]]\n"
     ]
    }
   ],
   "source": [
    "import pandas as pd\n",
    "from sklearn.feature_extraction.text import TfidfVectorizer\n",
    "from sklearn.metrics.pairwise import cosine_similarity\n",
    "\n",
    "file_path = r'C:\\Users\\Admin\\Desktop\\netflix_titles.csv'\n",
    "\n",
    "# Read the CSV file\n",
    "df = pd.read_csv(file_path)\n",
    "\n",
    "# Display the first few rows of the dataframe\n",
    "print(df.head())\n",
    "\n",
    "# Check if 'description' column exists\n",
    "if 'description' in df.columns:\n",
    "    descriptions = df['description'].dropna().values  # Remove any missing values (NaN)\n",
    "\n",
    "    if len(descriptions) >= 2:\n",
    "        vectorizer = TfidfVectorizer()\n",
    "        tfidf_matrix = vectorizer.fit_transform(descriptions)\n",
    "\n",
    "        cosine_sim_matrix = cosine_similarity(tfidf_matrix)\n",
    "\n",
    "        print(\"Cosine Similarity Matrix:\")\n",
    "        print(cosine_sim_matrix)\n",
    "    else:\n",
    "        print(\"The file does not contain enough texts to compute similarity.\")\n",
    "else:\n",
    "    print(\"The 'description' column was not found in the CSV file.\")\n"
   ]
  },
  {
   "cell_type": "code",
   "execution_count": null,
   "id": "b8663464",
   "metadata": {},
   "outputs": [],
   "source": []
  }
 ],
 "metadata": {
  "kernelspec": {
   "display_name": "Python 3 (ipykernel)",
   "language": "python",
   "name": "python3"
  },
  "language_info": {
   "codemirror_mode": {
    "name": "ipython",
    "version": 3
   },
   "file_extension": ".py",
   "mimetype": "text/x-python",
   "name": "python",
   "nbconvert_exporter": "python",
   "pygments_lexer": "ipython3",
   "version": "3.9.7"
  }
 },
 "nbformat": 4,
 "nbformat_minor": 5
}
